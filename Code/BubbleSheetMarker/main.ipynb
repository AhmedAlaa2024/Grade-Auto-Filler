{
 "cells": [
  {
   "cell_type": "code",
   "execution_count": 34,
   "metadata": {},
   "outputs": [],
   "source": [
    "import numpy as np\n",
    "import cv2\n",
    "from imutils import contours\n",
    "from imutils.perspective import four_point_transform\n",
    "\n",
    "from helper import show_images\n",
    "\n",
    "\n",
    "# declare some variables\n",
    "height = 800\n",
    "width = 600\n",
    "green = (0, 255, 0) # green color\n",
    "red = (0, 0, 255) # red color\n",
    "white = (255, 255, 255) # white color\n",
    "questions = 5\n",
    "answers = 5\n",
    "correct_ans = [0, 2, 1, 3, 4]"
   ]
  },
  {
   "cell_type": "code",
   "execution_count": 45,
   "metadata": {},
   "outputs": [],
   "source": [
    "img = cv2.imread('AnswerSheets/6.jpg')\n",
    "img = cv2.resize(img[420:1200,70:], (width, height))\n",
    "img_copy = img.copy() # for display purposes\n",
    "img_copy1 = img.copy() # for display purposes\n",
    "\n",
    "gray_img = cv2.cvtColor(img, cv2.COLOR_BGR2GRAY)\n",
    "blur_img = cv2.GaussianBlur(gray_img, (5, 5), 0)\n",
    "edge_img = cv2.Canny(blur_img, 75, 190)\n",
    "\n",
    "# find the contours in the image\n",
    "extractedContours, _ = cv2.findContours(edge_img, cv2.RETR_LIST, cv2.CHAIN_APPROX_NONE)\n",
    "questionContours = []\n",
    "# loop over the contours\n",
    "for c in extractedContours:\n",
    "\t# compute the bounding box of the contour, then use the\n",
    "\t# bounding box to derive the aspect ratio\n",
    "\t(x, y, w, h) = cv2.boundingRect(c)\n",
    "\tratio = w / float(h)\n",
    "\t# in order to label the contour as a question, region\n",
    "\t# should be sufficiently wide, sufficiently tall, and\n",
    "\t# have an aspect ratio approximately equal to 1\n",
    "\tif w >= 20 and h >= 20 and ratio >= 0.45:\n",
    "\t\tquestionContours.append(c)\n",
    "\n",
    "questionContours = contours.sort_contours(questionContours,\n",
    "\tmethod=\"top-to-bottom\")[0]\n",
    "correct = 0\n",
    "\n",
    "# draw the contours\n",
    "cv2.drawContours(img, questionContours, -1, green, 3)\n",
    "show_images(['image'], [img]) # helper function in helper.py file"
   ]
  },
  {
   "cell_type": "code",
   "execution_count": 3,
   "metadata": {},
   "outputs": [],
   "source": [
    "def get_rect_cnts(contours):\n",
    "    rect_cnts = []\n",
    "    for cnt in contours:\n",
    "        # approximate the contour\n",
    "        peri = cv2.arcLength(cnt, True)\n",
    "        approx = cv2.approxPolyDP(cnt, 0.02 * peri, True)\n",
    "        # if the approximated contour is a rectangle ...\n",
    "        if len(approx) == 4:\n",
    "            # append it to our list\n",
    "            rect_cnts.append(approx)\n",
    "    # sort the contours from biggest to smallest\n",
    "    rect_cnts = sorted(rect_cnts, key=cv2.contourArea, reverse=True)\n",
    "    \n",
    "    return rect_cnts\n",
    "\n",
    "rect_cnts = get_rect_cnts(contours)\n",
    "# warp perspective to get the top-down view of the document\n",
    "document = four_point_transform(img_copy, rect_cnts[0].reshape(4, 2))\n",
    "doc_copy = document.copy()  # for display purposes\n",
    "doc_copy1 = document.copy() # for display purposes\n",
    "\n",
    "cv2.drawContours(img_copy, rect_cnts, -1, green, 3)\n",
    "# helper function in helper.py file\n",
    "show_images(['image', 'document'], [img_copy, document])"
   ]
  },
  {
   "cell_type": "code",
   "execution_count": 4,
   "metadata": {},
   "outputs": [
    {
     "name": "stdout",
     "output_type": "stream",
     "text": [
      "[]\n"
     ]
    }
   ],
   "source": [
    "# find contours on the document\n",
    "gray_doc = cv2.cvtColor(document, cv2.COLOR_BGR2GRAY)\n",
    "blur_doc = cv2.GaussianBlur(gray_doc, (5, 5), 0)\n",
    "edge_doc = cv2.Canny(blur_doc, 10, 70)\n",
    "contours, _ = cv2.findContours(edge_doc, cv2.RETR_EXTERNAL, cv2.CHAIN_APPROX_SIMPLE)\n",
    "\n",
    "rect_cnts = get_rect_cnts(contours)\n",
    "print(rect_cnts)\n",
    "\n",
    "# # outline of the questions\n",
    "# biggest_cnt = rect_cnts[0]\n",
    "# # outline of the grade\n",
    "# grade_cnt = rect_cnts[1]\n",
    "\n",
    "# # draw the two biggest contours, which are the \n",
    "# # contour of the questions and the contour of the grade\n",
    "# cv2.drawContours(document, rect_cnts[:2], -1, green, 3)\n",
    "# show_images(['two biggest contours'], [document])"
   ]
  },
  {
   "cell_type": "code",
   "execution_count": 5,
   "metadata": {},
   "outputs": [
    {
     "ename": "NameError",
     "evalue": "name 'biggest_cnt' is not defined",
     "output_type": "error",
     "traceback": [
      "\u001b[1;31m---------------------------------------------------------------------------\u001b[0m",
      "\u001b[1;31mNameError\u001b[0m                                 Traceback (most recent call last)",
      "Cell \u001b[1;32mIn[5], line 4\u001b[0m\n\u001b[0;32m      1\u001b[0m \u001b[39m# cooredinates of the biggest contour\u001b[39;00m\n\u001b[0;32m      2\u001b[0m \u001b[39m# I added 4 pixels to x and y, and removed 4 pixels from x_W and y_H to make \u001b[39;00m\n\u001b[0;32m      3\u001b[0m \u001b[39m# sure we are inside the contour and not take the border of the biggest contour\u001b[39;00m\n\u001b[1;32m----> 4\u001b[0m x, y \u001b[39m=\u001b[39m biggest_cnt[\u001b[39m0\u001b[39m][\u001b[39m0\u001b[39m][\u001b[39m0\u001b[39m] \u001b[39m+\u001b[39m \u001b[39m4\u001b[39m, biggest_cnt[\u001b[39m0\u001b[39m][\u001b[39m0\u001b[39m][\u001b[39m1\u001b[39m] \u001b[39m+\u001b[39m \u001b[39m4\u001b[39m\n\u001b[0;32m      5\u001b[0m x_W, y_H \u001b[39m=\u001b[39m biggest_cnt[\u001b[39m2\u001b[39m][\u001b[39m0\u001b[39m][\u001b[39m0\u001b[39m] \u001b[39m-\u001b[39m \u001b[39m4\u001b[39m, biggest_cnt[\u001b[39m2\u001b[39m][\u001b[39m0\u001b[39m][\u001b[39m1\u001b[39m] \u001b[39m-\u001b[39m \u001b[39m4\u001b[39m\n\u001b[0;32m      7\u001b[0m \u001b[39m# create a black image with the same dimensions as the document\u001b[39;00m\n",
      "\u001b[1;31mNameError\u001b[0m: name 'biggest_cnt' is not defined"
     ]
    }
   ],
   "source": [
    "# cooredinates of the biggest contour\n",
    "# I added 4 pixels to x and y, and removed 4 pixels from x_W and y_H to make \n",
    "# sure we are inside the contour and not take the border of the biggest contour\n",
    "x, y = biggest_cnt[0][0][0] + 4, biggest_cnt[0][0][1] + 4\n",
    "x_W, y_H = biggest_cnt[2][0][0] - 4, biggest_cnt[2][0][1] - 4\n",
    "\n",
    "# create a black image with the same dimensions as the document\n",
    "mask =  np.zeros((document.shape[0], document.shape[1]), np.uint8)\n",
    "# we create a white rectangle in the region of the biggest contour\n",
    "cv2.rectangle(mask, (x, y), (x_W, y_H), white, -1) \n",
    "masked = cv2.bitwise_and(doc_copy, doc_copy, mask=mask)\n",
    "\n",
    "show_images(['document', 'mask', 'masked'], [doc_copy, mask, masked])"
   ]
  }
 ],
 "metadata": {
  "kernelspec": {
   "display_name": "Python 3.10.8 64-bit",
   "language": "python",
   "name": "python3"
  },
  "language_info": {
   "codemirror_mode": {
    "name": "ipython",
    "version": 3
   },
   "file_extension": ".py",
   "mimetype": "text/x-python",
   "name": "python",
   "nbconvert_exporter": "python",
   "pygments_lexer": "ipython3",
   "version": "3.10.8"
  },
  "orig_nbformat": 4,
  "vscode": {
   "interpreter": {
    "hash": "369f2c481f4da34e4445cda3fffd2e751bd1c4d706f27375911949ba6bb62e1c"
   }
  }
 },
 "nbformat": 4,
 "nbformat_minor": 2
}
