{
 "cells": [
  {
   "cell_type": "code",
   "execution_count": 1,
   "metadata": {},
   "outputs": [],
   "source": [
    "import xlsxwriter"
   ]
  },
  {
   "cell_type": "code",
   "execution_count": 2,
   "metadata": {},
   "outputs": [],
   "source": [
    "def generate_excel(workbook_name: str, worksheet_name: str, headers_list: list, data: list):\n",
    "\t# Creating workbook\n",
    "\tworkbook = xlsxwriter.Workbook(workbook_name + \".xlsx\")\n",
    "\t\n",
    "\t# Red background that will be used with question marks\n",
    "\tredBG = workbook.add_format()\n",
    "\tredBG.set_bg_color(\"red\")\n",
    "\n",
    "\t# Align all inputs\n",
    "\talignCenter = workbook.add_format()\n",
    "\talignCenter.set_align(\"center\")\n",
    "\talignLeft = workbook.add_format()\n",
    "\talignLeft.set_align(\"left\")\n",
    "\talignRight = workbook.add_format()\n",
    "\talignRight.set_align(\"right\")\n",
    "\n",
    "\t# Creating worksheet\n",
    "\tworksheet = workbook.add_worksheet(worksheet_name)\n",
    "\n",
    "\t# Adding headers\n",
    "\tfor index, header in enumerate(headers_list):\n",
    "\t\tworksheet.write(0, index, str(header).capitalize(), alignCenter)\n",
    "\n",
    "\t# Widths array\n",
    "\t# code, student name, english name\n",
    "\twidths = [len(\"Code\"), len(\"Student Name\"), len(\"English Name\")]\n",
    "\n",
    "\t# Adding data\n",
    "\tfor index1, entry in enumerate(data):\n",
    "\t\tfor index2, header in enumerate(headers_list):\n",
    "\t\t\tif entry[header] == -1:\n",
    "\t\t\t\tworksheet.write(index1+1, index2, \"\", redBG)\n",
    "\t\t\telif entry[header] == -2:\n",
    "\t\t\t\tworksheet.write(index1+1, index2, \"\")\n",
    "\t\t\telif header == \"Code\" or header == \"English Name\":\n",
    "\t\t\t\tworksheet.write(index1+1, index2, entry[header], alignLeft)\n",
    "\n",
    "\t\t\t\t# get the max width for [code, english name] columns\n",
    "\t\t\t\tif header == \"Code\":\n",
    "\t\t\t\t\twidths[0] = max(widths[0], len(entry[header]))\n",
    "\t\t\t\telse:\n",
    "\t\t\t\t\twidths[2] = max(widths[2], len(entry[header]))\n",
    "\n",
    "\t\t\telif header == \"Student Name\":\n",
    "\t\t\t\tworksheet.write(index1+1, index2, entry[header], alignRight)\n",
    "\n",
    "\t\t\t\t# get the max width for [student name] column\n",
    "\t\t\t\twidths[1] = max(widths[1], len(entry[header]))\n",
    "\t\t\telse:\n",
    "\t\t\t\tworksheet.write(index1+1, index2, entry[header], alignCenter)\n",
    "\t\n",
    "\tfor i in range(3):\n",
    "\t\tworksheet.set_column(i, i, widths[i]+2)\n",
    "\t\n",
    "\t# Close workbook\n",
    "\tworkbook.close()"
   ]
  },
  {
   "cell_type": "code",
   "execution_count": 3,
   "metadata": {},
   "outputs": [],
   "source": [
    "# Prepare the data\n",
    "# -1 -> question mark\n",
    "# -2 -> empty cell\n",
    "data = [\n",
    "\t{\n",
    "\t\t\"Code\": \"123\",\n",
    "\t\t\"Student Name\": \"بيشوي مراد\",\n",
    "\t\t\"English Name\": \"Beshoy Morad\",\n",
    "\t\t\"1\": 5,\n",
    "\t\t\"2\": 3,\n",
    "\t\t\"3\": 6\n",
    "\t},\n",
    "\t{\n",
    "\t\t\"Code\": \"234\",\n",
    "\t\t\"Student Name\": \"بيشوي مراد عطية\",\n",
    "\t\t\"English Name\": \"Beshoy Morad Atya\",\n",
    "\t\t\"1\": 5,\n",
    "\t\t\"2\": 3,\n",
    "\t\t\"3\": -1\n",
    "\t},\n",
    "\t{\n",
    "\t\t\"Code\": \"345\",\n",
    "\t\t\"Student Name\": \"بيشوي مراد\",\n",
    "\t\t\"English Name\": \"Beshoy Morad\",\n",
    "\t\t\"1\": 5,\n",
    "\t\t\"2\": -2,\n",
    "\t\t\"3\": 6\n",
    "\t},\n",
    "]\n",
    "\n",
    "generate_excel(\"Testing\", \"FirstSheet\", [\"Code\", \"Student Name\", \"English Name\", \"1\", \"2\", \"3\"], data)"
   ]
  }
 ],
 "metadata": {
  "kernelspec": {
   "display_name": "Python 3.10.7 64-bit",
   "language": "python",
   "name": "python3"
  },
  "language_info": {
   "codemirror_mode": {
    "name": "ipython",
    "version": 3
   },
   "file_extension": ".py",
   "mimetype": "text/x-python",
   "name": "python",
   "nbconvert_exporter": "python",
   "pygments_lexer": "ipython3",
   "version": "3.10.7"
  },
  "orig_nbformat": 4,
  "vscode": {
   "interpreter": {
    "hash": "369f2c481f4da34e4445cda3fffd2e751bd1c4d706f27375911949ba6bb62e1c"
   }
  }
 },
 "nbformat": 4,
 "nbformat_minor": 2
}
