{
 "cells": [
  {
   "cell_type": "code",
   "execution_count": null,
   "metadata": {},
   "outputs": [],
   "source": [
    "'''\n",
    "Start with array of cells for each row\n",
    "======================================\n",
    "First row will be ignored => [Code | Student Name | English Name | 1 | 2 | 3]\n",
    "\n",
    "For each row:\n",
    "1- Check for user choosed method (OCR or features + classifier)\n",
    "2- For the first 3 cells [Code | Student Name | English Name ] \n",
    "    apply the method to it and push the result to output array\n",
    "3- For the next 3 cells apply the following\n",
    "\ta) Check if it is ✓\n",
    "\tb) Else, check if it is 𐄂\n",
    "\tc) Else, check if it is -  ===> check if the width of minus is less than half the cell width\n",
    "\td) Else, check if it is ?  ===> output will be empty cell with red background\n",
    "\te) Else, check if is a stacked vertical lines  ===> output will be number of this lines\n",
    "\tf) Else, check if it a stacked horizontal lines  ===> output will be number of this lines\n",
    "\tg) If all the previous didn't give an output, then use the method to detect numeric values\n",
    "4- Final output should be an array with the following\n",
    "\t[Code, Arabic Name, English Name, First cell output, Second cell output, Third cell output]\n",
    "\n",
    "'''"
   ]
  },
  {
   "cell_type": "code",
   "execution_count": null,
   "metadata": {},
   "outputs": [],
   "source": []
  }
 ],
 "metadata": {
  "kernelspec": {
   "display_name": "Python 3.10.7 64-bit",
   "language": "python",
   "name": "python3"
  },
  "language_info": {
   "name": "python",
   "version": "3.10.7"
  },
  "orig_nbformat": 4,
  "vscode": {
   "interpreter": {
    "hash": "369f2c481f4da34e4445cda3fffd2e751bd1c4d706f27375911949ba6bb62e1c"
   }
  }
 },
 "nbformat": 4,
 "nbformat_minor": 2
}
