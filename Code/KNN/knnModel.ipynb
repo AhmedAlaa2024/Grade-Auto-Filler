{
 "cells": [
  {
   "cell_type": "code",
   "execution_count": 2,
   "metadata": {},
   "outputs": [],
   "source": [
    "import numpy as np\n",
    "import os\n",
    "import scipy.ndimage\n",
    "from skimage.feature import hog\n",
    "from skimage import data, color, exposure\n",
    "from sklearn.model_selection import  train_test_split\n",
    "from sklearn.neighbors import KNeighborsClassifier\n",
    "import joblib\n",
    "import cv2\n",
    "import imageio.v2 as imageio"
   ]
  },
  {
   "cell_type": "code",
   "execution_count": 4,
   "metadata": {},
   "outputs": [
    {
     "name": "stdout",
     "output_type": "stream",
     "text": [
      "23\n",
      "15\n",
      "30\n",
      "27\n",
      "29\n",
      "33\n",
      "32\n",
      "16\n",
      "19\n",
      "30\n"
     ]
    }
   ],
   "source": [
    "\n",
    "features_list = []\n",
    "features_label = []\n",
    "# load labeled training / test data\n",
    "# loop over the 10 directories where each directory stores the images of a digit\n",
    "for digit in range(0,10):\n",
    "    label = digit\n",
    "    training_directory = '../../Training/Dataset/digits/' + str(label) + '/'\n",
    "    print(len(os.listdir(training_directory)))\n",
    "    for filename in os.listdir(training_directory):\n",
    "        image = cv2.imread(training_directory + filename, cv2.IMREAD_GRAYSCALE)\n",
    "        image = cv2.resize(image, (25, 25))\n",
    "\n",
    "        # get the HOG descriptor for the image\n",
    "        hog_desc = hog(image, orientations=9, pixels_per_cell=(8, 8),cells_per_block=(2, 2), transform_sqrt=True, block_norm='L2-Hys')\n",
    "        features_label.append(label)\n",
    "        features_list.append(hog_desc)"
   ]
  },
  {
   "cell_type": "code",
   "execution_count": 6,
   "metadata": {},
   "outputs": [
    {
     "name": "stdout",
     "output_type": "stream",
     "text": [
      "0.9230769230769231\n"
     ]
    },
    {
     "data": {
      "text/plain": [
       "['./models/knn_model.pkl']"
      ]
     },
     "execution_count": 6,
     "metadata": {},
     "output_type": "execute_result"
    }
   ],
   "source": [
    "# store features array into a numpy array\n",
    "features  = np.array(features_list, 'float64')\n",
    "# split the labled dataset into training / test sets\n",
    "X_train, X_test, y_train, y_test = train_test_split(features, features_label,test_size=0.1)\n",
    "# train using K-NN\n",
    "knn = KNeighborsClassifier(n_neighbors=3)\n",
    "knn.fit(X_train, y_train)\n",
    "# get the model accuracy\n",
    "model_score = knn.score(X_test, y_test)\n",
    "print(model_score)\n",
    "# save trained model\n",
    "joblib.dump(knn, './models/knn_model.pkl')"
   ]
  },
  {
   "cell_type": "code",
   "execution_count": 7,
   "metadata": {},
   "outputs": [
    {
     "name": "stdout",
     "output_type": "stream",
     "text": [
      "(3, 1.0)\n"
     ]
    }
   ],
   "source": [
    "knn = joblib.load('./models/knn_model.pkl')\n",
    "\n",
    "# extract the features from the image to predict\n",
    "def feature_extraction(image):\n",
    "    return hog(image, orientations=9, pixels_per_cell=(8, 8),cells_per_block=(2, 2), transform_sqrt=True, block_norm='L2-Hys')\n",
    "\n",
    "\n",
    "def predict(df):\n",
    "    predict = knn.predict(df.reshape(1,-1))[0]\n",
    "    predict_proba = knn.predict_proba(df.reshape(1,-1))\n",
    "    return predict, predict_proba[0][predict]\n",
    "digits = []\n",
    "\n",
    "# load your image from file\n",
    "image = cv2.imread('../../Training/Dataset/digits/4/Cell_14_Test_11.jpg' , cv2.IMREAD_GRAYSCALE)\n",
    "image = cv2.resize(image, (25, 25))\n",
    "digits.append(image)\n",
    "# extract featuress\n",
    "hogs = list(map(lambda x: feature_extraction(x), digits))\n",
    "# apply k-NN model created in previous\n",
    "predictions = list(map(lambda x: predict(x), hogs))\n",
    "\n",
    "\n",
    "print(predictions[0])"
   ]
  }
 ],
 "metadata": {
  "kernelspec": {
   "display_name": "Python 3",
   "language": "python",
   "name": "python3"
  },
  "language_info": {
   "codemirror_mode": {
    "name": "ipython",
    "version": 3
   },
   "file_extension": ".py",
   "mimetype": "text/x-python",
   "name": "python",
   "nbconvert_exporter": "python",
   "pygments_lexer": "ipython3",
   "version": "3.10.2"
  },
  "orig_nbformat": 4,
  "vscode": {
   "interpreter": {
    "hash": "26de051ba29f2982a8de78e945f0abaf191376122a1563185a90213a26c5da77"
   }
  }
 },
 "nbformat": 4,
 "nbformat_minor": 2
}
