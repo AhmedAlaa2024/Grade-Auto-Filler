{
 "cells": [
  {
   "cell_type": "code",
   "execution_count": 36,
   "metadata": {},
   "outputs": [
    {
     "name": "stdout",
     "output_type": "stream",
     "text": [
      "11902229\n"
     ]
    }
   ],
   "source": [
    "import cv2\n",
    "# import numpy as np\n",
    "from getPredection import getPrediction\n",
    "\n",
    "\n",
    "def segement(img):\n",
    "    img = 255*img\n",
    "    kernel = np.ones((5, 5), np.uint8)\n",
    "    gray = cv2.cvtColor(img, cv2.COLOR_BGR2GRAY)\n",
    "    blurred = cv2.GaussianBlur(gray, (5, 5), 0)\n",
    "    edged = cv2.Canny(blurred, 50, 200, 255)\n",
    "    \n",
    "    # contours, hierarchy = cv2.findContours((edged).astype(\"uint8\"),cv2.RETR_EXTERNAL, cv2.CHAIN_APPROX_NONE)\n",
    "    contours, hierarchy = cv2.findContours(edged.copy(), cv2.RETR_EXTERNAL,cv2.CHAIN_APPROX_SIMPLE)\n",
    "    contours = sorted(contours, key=lambda ctr: cv2.boundingRect(ctr))\n",
    "    white_img_large_contours = np.ones(img.shape)\n",
    "    dimensions_contours = []\n",
    "    for contour in contours:\n",
    "        (x, y, w, h) = cv2.boundingRect(contour)\n",
    "        if(w*h > 50):\n",
    "            dimensions_contours.append((x, y, w, h))\n",
    "            cv2.rectangle(white_img_large_contours,(x, y), (x+w, y+h), (0, 0, 255), 3)\n",
    "    return dimensions_contours, img\n",
    "\n",
    "\n",
    "\n",
    "\n",
    "def getIdFromImage(img):\n",
    "  segmented_dimensions, filtered_img = segement(img)\n",
    "  cropped_digits = []\n",
    "  i = 0\n",
    "  for dimension in segmented_dimensions:\n",
    "    (x, y, w, h) = dimension\n",
    "    cropped_digits.append(filtered_img[y-1:y+h+1, x-1:x+w+1])\n",
    "    i += 1\n",
    "\n",
    "  predictions = []\n",
    "\n",
    "  for img in cropped_digits:\n",
    "    predictions.append(getPrediction(img))\n",
    "\n",
    "  predictedNumber = \"\"\n",
    "  for number in predictions:\n",
    "    predictedNumber += str(number)\n",
    "  return predictedNumber\n",
    "\n",
    "img = cv2.imread(\"../../Training/Dataset/ids/Cell_95_Test_13.jpg\")\n",
    "print(getIdFromImage(img))\n",
    "\n"
   ]
  }
 ],
 "metadata": {
  "kernelspec": {
   "display_name": "Python 3",
   "language": "python",
   "name": "python3"
  },
  "language_info": {
   "codemirror_mode": {
    "name": "ipython",
    "version": 3
   },
   "file_extension": ".py",
   "mimetype": "text/x-python",
   "name": "python",
   "nbconvert_exporter": "python",
   "pygments_lexer": "ipython3",
   "version": "3.10.2"
  },
  "orig_nbformat": 4,
  "vscode": {
   "interpreter": {
    "hash": "26de051ba29f2982a8de78e945f0abaf191376122a1563185a90213a26c5da77"
   }
  }
 },
 "nbformat": 4,
 "nbformat_minor": 2
}
