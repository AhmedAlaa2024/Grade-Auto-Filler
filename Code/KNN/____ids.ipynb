{
 "cells": [
  {
   "cell_type": "code",
   "execution_count": 7,
   "metadata": {},
   "outputs": [],
   "source": [
    "from sklearn import datasets, svm, metrics\n",
    "import scipy\n",
    "import os\n",
    "import imageio.v2 as imageio\n",
    "import cv2\n",
    "\n",
    "directory = '../../Training/Dataset/ids/'\n",
    "output_directory = './testing'\n",
    "\n",
    "PRINT_SLICES = False\n",
    "THRESHOLD_PIXELS_COUNT = 60000\n",
    "MAX_BOUNDING_BOX_WIDTH = 675\n",
    "MAX_BOUNDING_BOX_HEIGHT = 50\n",
    "\n",
    "def detect_left_edge(image):\n",
    "  h,w = image.shape\n",
    "  max = 0\n",
    "  edge = 0\n",
    "  for x in range(0,100):\n",
    "    vertical_slice = image[0:h,  x:x+15 ]\n",
    "    vertical_slice_pixels_count = vertical_slice.sum()\n",
    "\n",
    "    if( vertical_slice_pixels_count > THRESHOLD_PIXELS_COUNT):\n",
    "        imageio.imwrite(output_directory + '/' + filename, image[0:h, x:675])\n",
    "        return 0\n",
    "\n",
    "    if (vertical_slice_pixels_count > max):\n",
    "        max = vertical_slice_pixels_count\n",
    "        edge = x * 2\n",
    "  return edge\n",
    "\n",
    "# loop over images\n",
    "for filename in os.listdir(directory):\n",
    "  input_image = cv2.imread(directory + '/' + filename, cv2.IMREAD_GRAYSCALE)\n",
    "  image_height, image_width = input_image.shape\n",
    "  max = 0;\n",
    "  output_image = input_image\n",
    "  # detect top edge of the image bounding box\n",
    "  for h in range(0, image_height - MAX_BOUNDING_BOX_HEIGHT):\n",
    "      temp_image = input_image[h:h + MAX_BOUNDING_BOX_HEIGHT, 0:0 + MAX_BOUNDING_BOX_WIDTH]\n",
    "      if temp_image.sum() > max:\n",
    "          max= temp_image.sum()\n",
    "          output_image = temp_image\n",
    "  edge = detect_left_edge(output_image)"
   ]
  }
 ],
 "metadata": {
  "kernelspec": {
   "display_name": "Python 3",
   "language": "python",
   "name": "python3"
  },
  "language_info": {
   "codemirror_mode": {
    "name": "ipython",
    "version": 3
   },
   "file_extension": ".py",
   "mimetype": "text/x-python",
   "name": "python",
   "nbconvert_exporter": "python",
   "pygments_lexer": "ipython3",
   "version": "3.10.2 (tags/v3.10.2:a58ebcc, Jan 17 2022, 14:12:15) [MSC v.1929 64 bit (AMD64)]"
  },
  "orig_nbformat": 4,
  "vscode": {
   "interpreter": {
    "hash": "26de051ba29f2982a8de78e945f0abaf191376122a1563185a90213a26c5da77"
   }
  }
 },
 "nbformat": 4,
 "nbformat_minor": 2
}
